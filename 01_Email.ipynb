{
 "cells": [
  {
   "cell_type": "markdown",
   "metadata": {},
   "source": [
    "## 네이버 개인 Email로 메일 보내기"
   ]
  },
  {
   "cell_type": "markdown",
   "metadata": {},
   "source": [
    "### 네이버 메일 설정\n",
    "- 네이버 메일에서 환경설정 > POP3/SMTP 활성화\n",
    "- 네이버에서 사용하는 2차 OTP 인증을 사용할 경우에는 에러가 발생하니 유의할 것\n",
    "\n",
    "### SMTP protocol\n",
    "[설명 바로가기](https://docs.python.org/2/library/smtplib.html)\n",
    "\n",
    "파이썬에서 내장된 모듈 smtplib를 사용한다.\n",
    "위 코드에서보면 sever.ehlo()의 ehlo메서드를 사용하게 되는데 메일을 보낼 때 초기 연결 신호에서\n",
    "이상이 있는지 없는지를 확인하기 위한 일종의 검수 모듈 이라고 생각."
   ]
  },
  {
   "cell_type": "markdown",
   "metadata": {},
   "source": [
    "## Plain Text Type으로 보내기"
   ]
  },
  {
   "cell_type": "code",
   "execution_count": 1,
   "metadata": {},
   "outputs": [
    {
     "name": "stdout",
     "output_type": "stream",
     "text": [
      "Password: ········\n",
      "이메일 발송이 완료 되었습니다.\n"
     ]
    }
   ],
   "source": [
    "import smtplib\n",
    "from email.message import EmailMessage\n",
    "import getpass\n",
    "\n",
    "# 비밀번호 암호화 모듈\n",
    "password = getpass.getpass('Password: ') \n",
    "\n",
    "message = EmailMessage()\n",
    "message['Subject'] = '안녕하세요'\n",
    "message['From'] = 'sang93423@naver.com'\n",
    "# 복수 지정 가능\n",
    "message['To'] = 'orca9sg@gmail.com'\n",
    "message.set_content('''이번 한달간 놀라운 할인 혜택을 만나보세요~\n",
    "\n",
    "참여 조건은 일절 없습니다. 그냥 메일만 클릭해보세요\n",
    "\n",
    "감사합니다.\n",
    "''')\n",
    "\n",
    "with smtplib.SMTP_SSL('smtp.naver.com', 465) as server:\n",
    "    server.ehlo()\n",
    "    server.login('sang93423', password)\n",
    "    server.send_message(message)\n",
    "\n",
    "print('이메일 발송이 완료 되었습니다.')"
   ]
  },
  {
   "cell_type": "markdown",
   "metadata": {},
   "source": [
    "### 파일 첨부해서 메일 보내기"
   ]
  },
  {
   "cell_type": "code",
   "execution_count": 3,
   "metadata": {},
   "outputs": [
    {
     "name": "stdout",
     "output_type": "stream",
     "text": [
      "Password: ········\n",
      "이메일 발송이 완료 되었습니다.\n"
     ]
    }
   ],
   "source": [
    "import os\n",
    "import smtplib\n",
    "from email.message import EmailMessage\n",
    "from email.mime.application import MIMEApplication\n",
    "import getpass\n",
    "\n",
    "password = getpass.getpass('Password: ')\n",
    "message = EmailMessage()\n",
    "message['Subject'] = '안녕하세요'\n",
    "message['From'] = 'sang93423@naver.com'\n",
    "message['To'] = 'orca9sg@gmail.com'\n",
    "message.set_content('''이번 한달간 놀라운 할인 혜택을 만나보세요.\n",
    "\n",
    "참여 조건은 일절 없습니다. 그냥 메일만 클릭해보세요.\n",
    "\n",
    "감사합니다.\n",
    "''')\n",
    "message.add_alternative('''\n",
    "    <h1>노올라운 혜택</h1>\n",
    "    \n",
    "    <ul>\n",
    "        <li> 첫번째 싸다 </li>\n",
    "        <li> 두번째 빠르다 </li>\n",
    "    </ul>\n",
    "''', subtype='html')\n",
    "file_path = './123.png'\n",
    "with open(file_path, 'rb') as f:\n",
    "    filename = os.path.basename(file_path)\n",
    "    part = MIMEApplication(f.read(), name=filename)\n",
    "    message.attach(part)\n",
    "\n",
    "with smtplib.SMTP_SSL ('smtp.naver.com', 465) as server:\n",
    "    server.ehlo()\n",
    "    server.login('sang93423', password)\n",
    "    server.send_message(message)\n",
    "    \n",
    "print('이메일 발송이 완료 되었습니다.')"
   ]
  },
  {
   "cell_type": "markdown",
   "metadata": {},
   "source": [
    "### for loop문을 사용하여 복수의 이미지 파일 발송하기"
   ]
  },
  {
   "cell_type": "code",
   "execution_count": 6,
   "metadata": {},
   "outputs": [
    {
     "name": "stdout",
     "output_type": "stream",
     "text": [
      "Password: ········\n",
      "이메일을 발송했습니다\n"
     ]
    }
   ],
   "source": [
    "import os\n",
    "import smtplib\n",
    "from email.message import EmailMessage\n",
    "from email.mime.application import MIMEApplication\n",
    "\n",
    "import getpass\n",
    "password = getpass.getpass('Password: ') # 비밀번호 암호화 모듈\n",
    "\n",
    "message = EmailMessage()\n",
    "message['Subject'] = '안녕하세요'\n",
    "message['From'] = 'sang93423@naver.com'\n",
    "message['To'] = 'orca9sg@gmail.com' # 복수 지정 가능\n",
    "message.set_content('''이번 한달간 놀라운 할인 혜택을 만나보세요.\n",
    "\n",
    "참여 조건은 일절 없습니다. 그냥 메일만 클릭해보세요.\n",
    "\n",
    "감사합니다.\n",
    "''')\n",
    "\n",
    "message.add_alternative('''\n",
    "    <h1>노올라운 혜택</h1>\n",
    "    \n",
    "    <ul>\n",
    "        <li> 첫번째 싸다</li>\n",
    "        <li> 두번째 빠르다</li>\n",
    "    </ul>\n",
    "\n",
    "''', subtype='html')\n",
    "\n",
    "# for loop 를 사용하여 파일을 순회하여 메시지 보내기\n",
    "file_path_list = ['./123.png', './456.jpeg']\n",
    "for file_path in file_path_list:\n",
    "    with open(file_path, 'rb') as f:\n",
    "        filename = os.path.basename(file_path)\n",
    "        part = MIMEApplication(f.read(), name=filename)\n",
    "        message.attach(part)\n",
    "\n",
    "with smtplib.SMTP_SSL('smtp.naver.com', 465) as server:\n",
    "    server.ehlo()\n",
    "    server.login('sang93423', password)\n",
    "    server.send_message(message)\n",
    "\n",
    "print('이메일을 발송했습니다')"
   ]
  },
  {
   "cell_type": "markdown",
   "metadata": {},
   "source": [
    "### 첨부한 이미지 참조하여 메일 보내기(feat: html의 cid tag)"
   ]
  },
  {
   "cell_type": "code",
   "execution_count": 7,
   "metadata": {},
   "outputs": [
    {
     "name": "stdout",
     "output_type": "stream",
     "text": [
      "Password: ········\n",
      "이메일을 발송했습니다.\n"
     ]
    }
   ],
   "source": [
    "import os\n",
    "import smtplib\n",
    "from email.message import EmailMessage\n",
    "from email.mime.application import MIMEApplication\n",
    "\n",
    "import getpass\n",
    "password = getpass.getpass('Password: ') # 비밀번호 암호화 모듈\n",
    "\n",
    "message = EmailMessage()\n",
    "message['Subject'] = '안녕하세요'\n",
    "message['From'] = 'sang93423@naver.com'\n",
    "message['To'] = 'orca9sg@gmail.com' # 복수 지정 가능\n",
    "message.set_content('''이번 한달간 놀라운 할인 혜택을 만나보세요.\n",
    "\n",
    "참여 조건은 일절 없습니다. 그냥 메일만 클릭해보세요.\n",
    "\n",
    "감사합니다.\n",
    "''')\n",
    "\n",
    "message.add_alternative('''\n",
    "    <h1>노올라운 혜택</h1>\n",
    "    \n",
    "    <img src=\"cid:123.png\" />\n",
    "    \n",
    "    <p>이 부분에 이메일 내용을 작성, HTML은 불가<p>\n",
    "\n",
    "''', subtype='html')\n",
    "\n",
    "# for loop 를 사용하여 파일을 순회하여 메시지 보내기\n",
    "file_path_list = ['./123.png', './456.jpeg']\n",
    "for file_path in file_path_list:\n",
    "    with open(file_path, 'rb') as f:\n",
    "        filename = os.path.basename(file_path)\n",
    "        cid = filename\n",
    "        img_data = f.read()\n",
    "        part = MIMEApplication(img_data, name=filename)\n",
    "        part.add_header('Content-ID', '<' + cid + '>')\n",
    "        message.attach(part)\n",
    "\n",
    "with smtplib.SMTP_SSL('smtp.naver.com', 465) as server:\n",
    "    server.ehlo()\n",
    "    server.login('sang93423', password)\n",
    "    server.send_message(message)\n",
    "    \n",
    "print('이메일을 발송했습니다.')"
   ]
  },
  {
   "cell_type": "code",
   "execution_count": null,
   "metadata": {},
   "outputs": [],
   "source": []
  }
 ],
 "metadata": {
  "kernelspec": {
   "display_name": "Python 3",
   "language": "python",
   "name": "python3"
  },
  "language_info": {
   "codemirror_mode": {
    "name": "ipython",
    "version": 3
   },
   "file_extension": ".py",
   "mimetype": "text/x-python",
   "name": "python",
   "nbconvert_exporter": "python",
   "pygments_lexer": "ipython3",
   "version": "3.6.5"
  }
 },
 "nbformat": 4,
 "nbformat_minor": 2
}
